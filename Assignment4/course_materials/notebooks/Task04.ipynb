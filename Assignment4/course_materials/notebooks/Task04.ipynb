{
 "cells": [
  {
   "cell_type": "markdown",
   "metadata": {
    "colab_type": "text",
    "id": "bSxs0offXU_C"
   },
   "source": [
    "**Task 04: Graph querying**"
   ]
  },
  {
   "cell_type": "code",
   "execution_count": 1,
   "metadata": {
    "colab": {
     "base_uri": "https://localhost:8080/",
     "height": 191
    },
    "colab_type": "code",
    "executionInfo": {
     "elapsed": 4693,
     "status": "ok",
     "timestamp": 1600041647447,
     "user": {
      "displayName": "D D",
      "photoUrl": "https://lh3.googleusercontent.com/a-/AOh14Gh6T1hnprK5j2SM-Y3y4pgVo02G8ksIIlcrc3t3fA=s64",
      "userId": "13287914887952271965"
     },
     "user_tz": -120
    },
    "id": "eEaNOAcHW8He",
    "outputId": "93ac7ee4-a057-4537-ddb1-6b1d8586b892"
   },
   "outputs": [
    {
     "name": "stdout",
     "output_type": "stream",
     "text": [
      "Requirement already satisfied: rdflib in c:\\users\\prestamo_admin\\appdata\\local\\programs\\python\\python310\\lib\\site-packages (6.2.0)\n",
      "Requirement already satisfied: setuptools in c:\\users\\prestamo_admin\\appdata\\local\\programs\\python\\python310\\lib\\site-packages (from rdflib) (63.2.0)\n",
      "Requirement already satisfied: isodate in c:\\users\\prestamo_admin\\appdata\\local\\programs\\python\\python310\\lib\\site-packages (from rdflib) (0.6.1)\n",
      "Requirement already satisfied: pyparsing in c:\\users\\prestamo_admin\\appdata\\local\\programs\\python\\python310\\lib\\site-packages (from rdflib) (3.0.9)\n",
      "Requirement already satisfied: six in c:\\users\\prestamo_admin\\appdata\\local\\programs\\python\\python310\\lib\\site-packages (from isodate->rdflib) (1.16.0)\n"
     ]
    },
    {
     "name": "stderr",
     "output_type": "stream",
     "text": [
      "\n",
      "[notice] A new release of pip available: 22.2.2 -> 22.3\n",
      "[notice] To update, run: python.exe -m pip install --upgrade pip\n"
     ]
    }
   ],
   "source": [
    "!pip install rdflib\n",
    "github_storage = \"https://raw.githubusercontent.com/FacultadInformatica-LinkedData/Curso2021-2022/master/Assignment4/course_materials\""
   ]
  },
  {
   "cell_type": "code",
   "execution_count": 2,
   "metadata": {
    "colab": {
     "base_uri": "https://localhost:8080/",
     "height": 34
    },
    "colab_type": "code",
    "executionInfo": {
     "elapsed": 1718,
     "status": "ok",
     "timestamp": 1600041648140,
     "user": {
      "displayName": "D D",
      "photoUrl": "https://lh3.googleusercontent.com/a-/AOh14Gh6T1hnprK5j2SM-Y3y4pgVo02G8ksIIlcrc3t3fA=s64",
      "userId": "13287914887952271965"
     },
     "user_tz": -120
    },
    "id": "UqDyQeinXUxT",
    "outputId": "f165a6aa-31af-4f1c-8cd5-3da2c08a1c25"
   },
   "outputs": [
    {
     "data": {
      "text/plain": [
       "<Graph identifier=Ne9216304e90041d68b8264f9c23b22fc (<class 'rdflib.graph.Graph'>)>"
      ]
     },
     "execution_count": 2,
     "metadata": {},
     "output_type": "execute_result"
    }
   ],
   "source": [
    "from rdflib import Graph, Namespace, Literal\n",
    "g = Graph()\n",
    "g.parse(\"ejemplito.ttl\", format=\"ttl\")"
   ]
  },
  {
   "cell_type": "markdown",
   "metadata": {
    "colab_type": "text",
    "id": "vx7JZWjj6oZu"
   },
   "source": [
    "Listamos todos los recursos que contienen la propiedad VCARD:FN"
   ]
  },
  {
   "cell_type": "code",
   "execution_count": 3,
   "metadata": {
    "colab": {
     "base_uri": "https://localhost:8080/",
     "height": 86
    },
    "colab_type": "code",
    "executionInfo": {
     "elapsed": 535,
     "status": "ok",
     "timestamp": 1599647895878,
     "user": {
      "displayName": "D D",
      "photoUrl": "https://lh3.googleusercontent.com/a-/AOh14Gh6T1hnprK5j2SM-Y3y4pgVo02G8ksIIlcrc3t3fA=s64",
      "userId": "13287914887952271965"
     },
     "user_tz": -120
    },
    "id": "iSQog8i6XiI2",
    "outputId": "fff319ab-23c1-4e32-877a-84d6ba369292"
   },
   "outputs": [
    {
     "name": "stdout",
     "output_type": "stream",
     "text": [
      "(rdflib.term.URIRef('http://HO-G1.linkeddata.es/resource/Chargingstation/CS_06a61e9dd36ed0944d8b626713954b58'),)\n",
      "(rdflib.term.URIRef('http://HO-G1.linkeddata.es/resource/Chargingstation/CS_0a6fee4b67d455129119a95d1f84b34f'),)\n",
      "(rdflib.term.URIRef('http://HO-G1.linkeddata.es/resource/Chargingstation/CS_1874b5f5a66f06509d9b6901ed7367d3'),)\n",
      "(rdflib.term.URIRef('http://HO-G1.linkeddata.es/resource/Chargingstation/CS_1a2fba2c73894c2417679bb6f86481d8'),)\n",
      "(rdflib.term.URIRef('http://HO-G1.linkeddata.es/resource/Chargingstation/CS_228925becaf736457758bb742e419701'),)\n",
      "(rdflib.term.URIRef('http://HO-G1.linkeddata.es/resource/Chargingstation/CS_243e02988fbbf9b61581b669dd41fd83'),)\n",
      "(rdflib.term.URIRef('http://HO-G1.linkeddata.es/resource/Chargingstation/CS_291709b8a506c6d21a47f5dd415c5087'),)\n",
      "(rdflib.term.URIRef('http://HO-G1.linkeddata.es/resource/Chargingstation/CS_2b6f7bd0f08f44d38c82a73c41c1931f'),)\n",
      "(rdflib.term.URIRef('http://HO-G1.linkeddata.es/resource/Chargingstation/CS_2e17db05dd3cb942bde18daeb0610df6'),)\n",
      "(rdflib.term.URIRef('http://HO-G1.linkeddata.es/resource/Chargingstation/CS_31eacb16824de32299e5a9a0e5e2c3bc'),)\n",
      "(rdflib.term.URIRef('http://HO-G1.linkeddata.es/resource/Chargingstation/CS_33b16af2bd23d50517f5f01b0991e8f8'),)\n",
      "(rdflib.term.URIRef('http://HO-G1.linkeddata.es/resource/Chargingstation/CS_38a6c22081aef3c863b5fd463e9950e3'),)\n",
      "(rdflib.term.URIRef('http://HO-G1.linkeddata.es/resource/Chargingstation/CS_42af7e789951ae672950aa57da7089b5'),)\n",
      "(rdflib.term.URIRef('http://HO-G1.linkeddata.es/resource/Chargingstation/CS_4bf5b5f7696b7db0bb1dc511a7dede65'),)\n",
      "(rdflib.term.URIRef('http://HO-G1.linkeddata.es/resource/Chargingstation/CS_5fc28c2bd2d9253aed619834189f8634'),)\n",
      "(rdflib.term.URIRef('http://HO-G1.linkeddata.es/resource/Chargingstation/CS_62360aef46f29558184a9b9f607b96d1'),)\n",
      "(rdflib.term.URIRef('http://HO-G1.linkeddata.es/resource/Chargingstation/CS_63a4a3bb6b30f86368e80747106d3a86'),)\n",
      "(rdflib.term.URIRef('http://HO-G1.linkeddata.es/resource/Chargingstation/CS_65538ad9bc5c7f8f9e0f9dfa6442c817'),)\n",
      "(rdflib.term.URIRef('http://HO-G1.linkeddata.es/resource/Chargingstation/CS_69a480037c4718a731dbe8af62e4ec5b'),)\n",
      "(rdflib.term.URIRef('http://HO-G1.linkeddata.es/resource/Chargingstation/CS_6d7cec35f5996e2473aefa0cec86f29e'),)\n",
      "(rdflib.term.URIRef('http://HO-G1.linkeddata.es/resource/Chargingstation/CS_856fcfda90e25a0b2fcb206e25d94e9f'),)\n",
      "(rdflib.term.URIRef('http://HO-G1.linkeddata.es/resource/Chargingstation/CS_8a188f4e987358c2bc9c4ab53c6330b3'),)\n",
      "(rdflib.term.URIRef('http://HO-G1.linkeddata.es/resource/Chargingstation/CS_a112b47aa781db7052e21ba75c0f3cee'),)\n",
      "(rdflib.term.URIRef('http://HO-G1.linkeddata.es/resource/Chargingstation/CS_aa3150e695b7b85ea0b9f0e4fb16a5d0'),)\n",
      "(rdflib.term.URIRef('http://HO-G1.linkeddata.es/resource/Chargingstation/CS_ae539d4c8e879725e93863829875b27a'),)\n",
      "(rdflib.term.URIRef('http://HO-G1.linkeddata.es/resource/Chargingstation/CS_c0700936ae7eb3be3cf96333179b023f'),)\n",
      "(rdflib.term.URIRef('http://HO-G1.linkeddata.es/resource/Chargingstation/CS_c51ba8ceed724fb006b47b1ad561104d'),)\n",
      "(rdflib.term.URIRef('http://HO-G1.linkeddata.es/resource/Chargingstation/CS_ca3e7e0f76999fd00a297c8f160baf99'),)\n",
      "(rdflib.term.URIRef('http://HO-G1.linkeddata.es/resource/Chargingstation/CS_cdba71c006a052def0c5beff4a142c51'),)\n",
      "(rdflib.term.URIRef('http://HO-G1.linkeddata.es/resource/Chargingstation/CS_d081f3afe137496c2485bd32e8a51037'),)\n",
      "(rdflib.term.URIRef('http://HO-G1.linkeddata.es/resource/Chargingstation/CS_d6252a6bcb431f470dae8556bc1de595'),)\n",
      "(rdflib.term.URIRef('http://HO-G1.linkeddata.es/resource/Chargingstation/CS_d95a5a609bb60db2b8f72d39286b63af'),)\n",
      "(rdflib.term.URIRef('http://HO-G1.linkeddata.es/resource/Chargingstation/CS_dd18283afd2013cc5c73c99a9ba389df'),)\n",
      "(rdflib.term.URIRef('http://HO-G1.linkeddata.es/resource/Chargingstation/CS_e793630cc31fefb530f431858cbee19e'),)\n",
      "(rdflib.term.URIRef('http://HO-G1.linkeddata.es/resource/Chargingstation/CS_e90fe814589644613e150e26b046c4dd'),)\n",
      "(rdflib.term.URIRef('http://HO-G1.linkeddata.es/resource/Chargingstation/CS_eada8e8fae076dd732b857243fd17727'),)\n",
      "(rdflib.term.URIRef('http://HO-G1.linkeddata.es/resource/Chargingstation/CS_f3147f6a04c1712bcfe5c99bba910af6'),)\n",
      "(rdflib.term.URIRef('http://HO-G1.linkeddata.es/resource/Chargingstation/CS_fab7631431f646a579b5df6b74e8a606'),)\n"
     ]
    }
   ],
   "source": [
    "from rdflib.plugins.sparql import prepareQuery\n",
    "\n",
    "mv= Namespace(\"http://schema.mobivoc.org/#\")\n",
    "ns= Namespace(\"http://HO-G1.linkeddata.es/ontology/Chargingstation#\")\n",
    "uiote= Namespace(\"http://www.w3id.org/urban-iot/uiote#\")\n",
    "schema= Namespace(\"http://schema.org/\")\n",
    "xsd= Namespace(\"http://www.w3.org/2001/XMLSchema#\")\n",
    "owl= Namespace(\"http://www.w3.org/2002/07/owl#\")\n",
    "\n",
    "q1 = prepareQuery('''\n",
    "SELECT DISTINCT ?chargingStation\n",
    "WHERE \n",
    "{\n",
    "  ?chargingStation a uiote:ChargingStation ;\n",
    "}\n",
    "  ''',\n",
    "  initNs = { \"ns\": ns, \"mv\": mv, \"uiote\": uiote, \"schema\": schema, \"xsd\": xsd, \"owl\": owl}\n",
    ")\n",
    "\n",
    "for r in g.query(q1):\n",
    "  print(r)"
   ]
  },
  {
   "cell_type": "markdown",
   "metadata": {
    "colab_type": "text",
    "id": "ZAXn1nMO6vlp"
   },
   "source": [
    "Repetimos la anterior consulta, pero pidiendo ahora además los nombres completos de los sujetos"
   ]
  },
  {
   "cell_type": "code",
   "execution_count": 13,
   "metadata": {
    "colab": {
     "base_uri": "https://localhost:8080/",
     "height": 86
    },
    "colab_type": "code",
    "executionInfo": {
     "elapsed": 515,
     "status": "ok",
     "timestamp": 1599647954161,
     "user": {
      "displayName": "D D",
      "photoUrl": "https://lh3.googleusercontent.com/a-/AOh14Gh6T1hnprK5j2SM-Y3y4pgVo02G8ksIIlcrc3t3fA=s64",
      "userId": "13287914887952271965"
     },
     "user_tz": -120
    },
    "id": "R4BKqgkpcVgf",
    "outputId": "0c0819bb-a59b-495b-b9b5-913868a9b91f"
   },
   "outputs": [
    {
     "name": "stdout",
     "output_type": "stream",
     "text": [
      "http://somewhere#JaneSmith Jane Smith\n",
      "http://somewhere#JohnSmith John Smith\n",
      "http://somewhere#SarahJones Sarah Jones\n",
      "http://somewhere#MattJones Matt Jones\n"
     ]
    }
   ],
   "source": [
    "q2 = prepareQuery('''\n",
    "  SELECT ?Subject ?FullName WHERE { \n",
    "    ?Subject vcard:FN ?FullName.\n",
    "  } \n",
    "  ''',\n",
    "  initNs = { \"vcard\": VCARD}\n",
    ")\n",
    "\n",
    "for r in g.query(q2):\n",
    "  print(r.Subject, r.FullName)"
   ]
  },
  {
   "cell_type": "markdown",
   "metadata": {
    "colab_type": "text",
    "id": "09HdH0eG68Dd"
   },
   "source": [
    "Obtenemos todos los recursos que contienen \"Smith\" como nombre de familia"
   ]
  },
  {
   "cell_type": "code",
   "execution_count": 10,
   "metadata": {
    "colab": {
     "base_uri": "https://localhost:8080/",
     "height": 52
    },
    "colab_type": "code",
    "executionInfo": {
     "elapsed": 427,
     "status": "ok",
     "timestamp": 1599648214741,
     "user": {
      "displayName": "D D",
      "photoUrl": "https://lh3.googleusercontent.com/a-/AOh14Gh6T1hnprK5j2SM-Y3y4pgVo02G8ksIIlcrc3t3fA=s64",
      "userId": "13287914887952271965"
     },
     "user_tz": -120
    },
    "id": "sPGjq-AEcvEN",
    "outputId": "78c357de-ebc7-4195-af6c-0cf2b0bcffa5"
   },
   "outputs": [
    {
     "name": "stdout",
     "output_type": "stream",
     "text": [
      "http://somewhere#JaneSmith\n",
      "http://somewhere#JohnSmith\n"
     ]
    }
   ],
   "source": [
    "from rdflib import XSD\n",
    "\n",
    "q3 = prepareQuery('''\n",
    "  SELECT ?Subject WHERE { \n",
    "    ?Subject vcard:Family ?Family.\n",
    "  } \n",
    "  ''',\n",
    "  initNs = { \"vcard\": VCARD}\n",
    ")\n",
    "\n",
    "for r in g.query(q3, initBindings = {'?Family' : Literal('Smith', datatype=XSD.string)}):\n",
    "  print(r.Subject)"
   ]
  },
  {
   "cell_type": "markdown",
   "metadata": {
    "colab_type": "text",
    "id": "3ZoGdkYW7Fuj"
   },
   "source": [
    "Obtenemos todos los elementos que contienen un email asociado"
   ]
  },
  {
   "cell_type": "code",
   "execution_count": 11,
   "metadata": {
    "colab": {
     "base_uri": "https://localhost:8080/",
     "height": 52
    },
    "colab_type": "code",
    "executionInfo": {
     "elapsed": 438,
     "status": "ok",
     "timestamp": 1599648457094,
     "user": {
      "displayName": "D D",
      "photoUrl": "https://lh3.googleusercontent.com/a-/AOh14Gh6T1hnprK5j2SM-Y3y4pgVo02G8ksIIlcrc3t3fA=s64",
      "userId": "13287914887952271965"
     },
     "user_tz": -120
    },
    "id": "0cM7u_jpeQVt",
    "outputId": "400373d6-15e5-4c29-e567-d0d0e63100a4"
   },
   "outputs": [
    {
     "name": "stdout",
     "output_type": "stream",
     "text": [
      "http://somewhere#JaneSmith jSmith@somewhere.com\n",
      "http://somewhere#SarahJones sJones@somewhere.com\n"
     ]
    }
   ],
   "source": [
    "from rdflib import FOAF\n",
    "\n",
    "q4 = prepareQuery('''\n",
    "  SELECT ?Subject ?Email WHERE { \n",
    "    ?Subject foaf:email ?Email.\n",
    "  } \n",
    "  ''',\n",
    "  initNs = { \"foaf\": FOAF}\n",
    ")\n",
    "\n",
    "for r in g.query(q4):\n",
    "  print(r.Subject,r.Email)"
   ]
  },
  {
   "cell_type": "markdown",
   "metadata": {
    "colab_type": "text",
    "id": "OAMYrwd57E_Y"
   },
   "source": [
    "Consultamos todos los que conocen (FOAF:knows) a \"Jane Smith\" y obtenemos sus nombres de pila (VCARD:Given)"
   ]
  },
  {
   "cell_type": "code",
   "execution_count": 12,
   "metadata": {
    "colab": {
     "base_uri": "https://localhost:8080/",
     "height": 52
    },
    "colab_type": "code",
    "executionInfo": {
     "elapsed": 929,
     "status": "ok",
     "timestamp": 1599650269423,
     "user": {
      "displayName": "D D",
      "photoUrl": "https://lh3.googleusercontent.com/a-/AOh14Gh6T1hnprK5j2SM-Y3y4pgVo02G8ksIIlcrc3t3fA=s64",
      "userId": "13287914887952271965"
     },
     "user_tz": -120
    },
    "id": "L-i2jJahkhuN",
    "outputId": "ef977c72-04d4-4d69-9fe6-cf5ff2dee2e9"
   },
   "outputs": [
    {
     "name": "stdout",
     "output_type": "stream",
     "text": [
      "http://somewhere#JohnSmith John\n",
      "http://somewhere#MattJones Matt\n"
     ]
    }
   ],
   "source": [
    "q5 = prepareQuery('''\n",
    "  SELECT  ?Subject ?Given  WHERE {\n",
    "    ?Subject foaf:knows ?JaneSmith.\n",
    "\t?JaneSmith vcard:FN ?JaneSmithFullName.\n",
    "\t?Subject vcard:Given ?Given.\n",
    "  }  \n",
    "  ''',\n",
    "  initNs = { \"foaf\": FOAF, \"vcard\": VCARD, \"xsd\":XSD}\n",
    ")\n",
    "\n",
    "for r in g.query(q5, initBindings = {'?JaneSmithFullName' : Literal('Jane Smith', datatype=XSD.string)}):\n",
    "  print(r.Subject, r.Given)"
   ]
  },
  {
   "cell_type": "code",
   "execution_count": null,
   "metadata": {},
   "outputs": [],
   "source": []
  }
 ],
 "metadata": {
  "colab": {
   "authorship_tag": "ABX9TyMmW28VZItB7oAPdjSO8pyX",
   "collapsed_sections": [],
   "name": "Task04.ipynb",
   "provenance": []
  },
  "kernelspec": {
   "display_name": "Python 3.10.7 64-bit",
   "language": "python",
   "name": "python3"
  },
  "language_info": {
   "codemirror_mode": {
    "name": "ipython",
    "version": 3
   },
   "file_extension": ".py",
   "mimetype": "text/x-python",
   "name": "python",
   "nbconvert_exporter": "python",
   "pygments_lexer": "ipython3",
   "version": "3.10.7"
  },
  "vscode": {
   "interpreter": {
    "hash": "8df21f8a0a5e46b851f54ae000fabaeef588af9fbb893e011f383f8771255960"
   }
  }
 },
 "nbformat": 4,
 "nbformat_minor": 1
}
